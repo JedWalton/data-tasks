{
 "cells": [
  {
   "cell_type": "markdown",
   "metadata": {},
   "source": [
    "### Data\n",
    "\n",
    "We will use data from the file `../data/rowiki_2006.txt` in the `data` repository on GitHub. \n",
    "To data were originally obtained from the Wikipedia XML Dumps (https://dumps.wikimedia.org/mirrors.html) and include every article edit made on Romanian Wikipedia since it began until the end of 2006. Each line in the file is an edit and includes the title of the edited article, the time when the edit was submitted, whether the edit was a revert, the version of the article, and the user who submitted the edit. To detect the article versions, a hash was calculated for the complete article text following each revision and the hashes were compared between edits. \n",
    "\n",
    "The table below describes the variables in the data:\n",
    "\n",
    "| Variable   | Explanation   \n",
    "|:-----------|:-------\n",
    "| title      | title of the edited article               \n",
    "| time       | time in the format YYYY-MM-DD HH:MM:SS when the edit was completed  \n",
    "| revert     | 1 if the edit was detected to revert to a previous article version, 0 otherwise \n",
    "| version    | an integer indicating a unique state of the article, generally increasing over time; -1 indicates the article was empty (usually due to vandalism); if the same number appears more than once, then the article was exactly in the same state at these different time points  \n",
    "| user       | the editor's username or if not logged in, the editor's IP address  "
   ]
  },
  {
   "cell_type": "markdown",
   "metadata": {},
   "source": [
    "### 1. Who reverted whom?\n",
    "\n",
    "Your goal is to create a network (e.g., an edge list), where an edge goes from the editor who restored an earlier version of the article (the \"reverter\") to the editor who made the revision immediately after that version (the \"reverted\"). For every edge, you should know who the reverter was, who got reverted, when the revert occurred, and what the \"seniority\" of the the reverter and the reverted were at this point in time.\n",
    "\n",
    "We will ignore the article titles for the analyses so you don't need to save these.\n",
    "\n",
    "In addition, you will need to clean up the self-reverts – we will not use them in the analyses here.\n",
    "\n",
    "We will estimate seniority $s_i$ of editor $i$ as the base-ten logarithm of the number of edits $i$ has completed by the time of the revert under question. Transforming the number of edits with the logarithm makes sense because they follow a power-law distribution (the majority of individuals have very few edits, while a handful of individuals are responsible for most of the work). This operationalization allows to express the difference in seniority between two editors as the base-ten logarithm of the ratio of number of edits since $s_i - s_j = \\log_{10} e_i - \\log_{10} e_j = \\log_{10} \\frac{e_i}{e_j}$, where $e_i$ is the number of edits of editor $i$ and $e_j$ is the number of edits of editor $j$. In essence, we assume that an editor who has 10 edits compares to one with 100 edits the same way that an editor with 1,000 edits compares to one with 10,000.\n",
    "\n",
    "**Print the first 5 data points** in your network (what these look like will depend on the data type you are using).\n",
    "\n",
    "Then **print the number of nodes and edges** in the network.\n",
    "\n",
    "#### Hints\n",
    "\n",
    "There are multiple ways to save the network data: you can use a single list, or multiple lists, or a list and dictionaries, or just dictionaries, or create your own network class. You should consider how you are going to use the data to decide on a reasonable data structure."
   ]
  },
  {
   "cell_type": "markdown",
   "metadata": {},
   "source": [
    "What to consider: \n",
    "- no pandas skitlearn etc \n",
    "\n",
    "- no self reverts\n",
    "- no reverts with no change in version (filter on version being different): no revert if old_version == new_version\n",
    "\n",
    "- create edge list (network) from reverter to reverted \n",
    "= names, time of revert, seniority \n",
    "- for seniority it matters the number of reverts in total at that time \n",
    "- clean up self-reverts (e.g filter by username) \n",
    "- get rid of title values \n",
    "- estimation of seniority: si of i as base-ten-log(e) at ti\n",
    "- si =log10(Number of Edits i)"
   ]
  },
  {
   "cell_type": "code",
   "execution_count": 1,
   "metadata": {},
   "outputs": [
    {
     "name": "stdout",
     "output_type": "stream",
     "text": [
      "['title\\ttime\\trevert\\tversion\\tuser\\n', 'Academiei_Române \\t2004-05-24 19:07:47\\t0\\t1\\tBogdan\\n', 'Tata,_Ungaria \\t2006-09-12 22:35:24\\t0\\t14\\tMishuletz\\n', 'Tata,_Ungaria \\t2006-08-04 09:12:15\\t0\\t13\\tYurikBot\\n', 'Tata,_Ungaria \\t2006-07-21 21:13:26\\t0\\t12\\tYurikBot\\n', 'Tata,_Ungaria \\t2006-07-21 14:54:46\\t0\\t11\\tOvidiu.\\n', 'Tata,_Ungaria \\t2006-07-21 14:50:59\\t0\\t10\\tOvidiu.\\n', 'Tata,_Ungaria \\t2006-07-16 21:22:29\\t0\\t9\\tOvidiu.\\n', 'Tata,_Ungaria \\t2006-07-16 21:17:23\\t0\\t8\\tOvidiu.\\n', 'Tata,_Ungaria \\t2006-07-16 20:59:10\\t0\\t7\\tOvidiu.\\n', 'Tata,_Ungaria \\t2006-07-16 20:55:48\\t0\\t6\\tOvidiu.\\n', 'Tata,_Ungaria \\t2006-07-16 20:54:06\\t0\\t5\\tOvidiu.\\n', 'Tata,_Ungaria \\t2006-07-16 20:51:03\\t0\\t4\\tOvidiu.\\n', 'Tata,_Ungaria \\t2006-07-16 20:39:46\\t0\\t3\\tOvidiu.\\n', 'Tata,_Ungaria \\t2006-07-16 20:37:27\\t0\\t2\\tOvidiu.\\n', 'Tata,_Ungaria \\t2006-07-16 20:34:07\\t0\\t1\\tOvidiu.\\n', 'Rakke \\t2006-09-23 08:19:48\\t0\\t5\\tMishuletz\\n', 'Rakke \\t2006-06-29 22:11:00\\t0\\t4\\t82.181.169.249\\n', 'Rakke \\t2005-09-17 23:24:48\\t0\\t3\\tVlad\\n', 'Rakke \\t2005-04-04 20:51:25\\t0\\t2\\tMihaitzaBot\\n', 'Rakke \\t2004-06-02 00:11:31\\t0\\t1\\tRonline\\n', 'Eifel \\t2006-12-28 06:49:30\\t0\\t12\\tThijs!bot\\n', 'Eifel \\t2006-11-25 19:51:11\\t0\\t11\\tAnclation\\n', 'Eifel \\t2006-11-25 13:33:56\\t0\\t10\\tParvus7\\n', 'Eifel \\t2006-11-25 13:21:53\\t0\\t9\\tParvus7\\n', 'Eifel \\t2006-11-25 12:42:01\\t0\\t8\\tParvus7\\n', 'Eifel \\t2006-11-25 12:35:00\\t0\\t7\\tParvus7\\n', 'Eifel \\t2006-11-25 12:34:44\\t0\\t6\\tParvus7\\n', 'Eifel \\t2006-11-25 11:58:13\\t0\\t5\\tParvus7\\n', 'Eifel \\t2006-11-25 11:54:27\\t0\\t4\\tParvus7\\n', 'Eifel \\t2006-11-25 11:52:20\\t0\\t3\\tParvus7\\n', 'Eifel \\t2006-11-25 11:51:22\\t0\\t2\\tParvus7\\n', 'Eifel \\t2006-11-25 11:49:26\\t0\\t1\\tParvus7\\n', 'Stadionul_Giulești_-_Valentin_Stănescu \\t2006-09-26 20:24:17\\t0\\t7\\t84.163.22.43\\n', 'Stadionul_Giulești_-_Valentin_Stănescu \\t2006-08-15 09:29:17\\t0\\t6\\tStrainu\\n', 'Stadionul_Giulești_-_Valentin_Stănescu \\t2006-05-23 12:32:03\\t0\\t5\\tAnclation\\n', 'Stadionul_Giulești_-_Valentin_Stănescu \\t2006-02-07 19:54:58\\t0\\t4\\tStrainu\\n', 'Stadionul_Giulești_-_Valentin_Stănescu \\t2006-02-03 17:46:18\\t0\\t3\\tStrainu\\n', 'Stadionul_Giulești_-_Valentin_Stănescu \\t2005-12-24 08:01:26\\t0\\t2\\tStrainu\\n', 'Stadionul_Giulești_-_Valentin_Stănescu \\t2005-12-22 17:10:56\\t0\\t1\\tStrainu\\n', 'Marcă_înregistrată_(termen) \\t2006-09-26 01:01:11\\t0\\t8\\tMishuletz\\n', 'Marcă_înregistrată_(termen) \\t2005-10-01 12:38:09\\t1\\t7\\tVlad\\n', 'Marcă_înregistrată_(termen) \\t2005-10-01 12:37:19\\t0\\t7\\tVlad\\n', 'Marcă_înregistrată_(termen) \\t2005-08-23 17:15:57\\t0\\t6\\t194.105.8.56\\n', 'Marcă_înregistrată_(termen) \\t2005-08-23 17:14:10\\t0\\t5\\t194.105.8.56\\n', 'Marcă_înregistrată_(termen) \\t2005-08-23 17:12:53\\t0\\t4\\t194.105.8.56\\n', 'Marcă_înregistrată_(termen) \\t2005-07-22 20:43:53\\t0\\t3\\tGutza\\n', 'Marcă_înregistrată_(termen) \\t2005-07-22 20:40:47\\t0\\t2\\tRomihaitza\\n', 'Marcă_înregistrată_(termen) \\t2005-07-22 20:35:00\\t0\\t1\\t80.97.210.22\\n', 'San_Luis_Potosí \\t2006-12-31 08:56:50\\t0\\t1\\tWars\\n', 'Apollo_(mitologie) \\t2006-12-24 07:14:25\\t0\\t47\\tThijs!bot\\n', 'Apollo_(mitologie) \\t2006-12-10 03:55:29\\t0\\t46\\tZwobot\\n', 'Apollo_(mitologie) \\t2006-12-01 19:32:00\\t0\\t45\\tJokes_Free4Me\\n', 'Apollo_(mitologie) \\t2006-10-29 06:10:41\\t0\\t44\\tEscarbot\\n', 'Apollo_(mitologie) \\t2006-10-15 09:56:18\\t0\\t43\\tPlacet_experiri\\n', 'Apollo_(mitologie) \\t2006-10-14 09:45:07\\t0\\t42\\tPlacet_experiri\\n', 'Apollo_(mitologie) \\t2006-10-06 21:33:58\\t0\\t41\\tParvus7\\n', 'Apollo_(mitologie) \\t2006-09-30 17:07:05\\t0\\t40\\tThijs!bot\\n', 'Apollo_(mitologie) \\t2006-09-06 00:02:39\\t0\\t39\\tRobotQuistnix\\n', 'Apollo_(mitologie) \\t2006-08-27 00:39:41\\t1\\t37\\tThijs!bot\\n', 'Apollo_(mitologie) \\t2006-08-14 16:27:21\\t0\\t38\\tRobotQuistnix\\n', 'Apollo_(mitologie) \\t2006-08-09 05:22:42\\t0\\t37\\tRobotQuistnix\\n', 'Apollo_(mitologie) \\t2006-07-15 11:52:17\\t0\\t36\\tRobotQuistnix\\n', 'Apollo_(mitologie) \\t2006-06-06 01:59:58\\t0\\t35\\tFlaBot\\n', 'Apollo_(mitologie) \\t2006-05-24 16:23:48\\t0\\t34\\tLaurap\\n', 'Apollo_(mitologie) \\t2006-05-24 16:21:35\\t0\\t33\\tLaurap\\n', 'Apollo_(mitologie) \\t2006-05-21 01:19:17\\t0\\t32\\tYurikBot\\n', 'Apollo_(mitologie) \\t2006-04-02 19:12:20\\t0\\t31\\tRobotQuistnix\\n', 'Apollo_(mitologie) \\t2006-03-16 06:00:04\\t0\\t30\\tRobotQuistnix\\n', 'Apollo_(mitologie) \\t2006-03-10 18:41:55\\t0\\t29\\tYurikBot\\n', 'Apollo_(mitologie) \\t2006-03-04 07:02:14\\t0\\t28\\tRobotQuistnix\\n', 'Apollo_(mitologie) \\t2006-02-25 11:07:48\\t0\\t27\\tRobotQuistnix\\n', 'Apollo_(mitologie) \\t2006-02-20 02:45:08\\t0\\t26\\tRobotQuistnix\\n', 'Apollo_(mitologie) \\t2006-02-10 16:03:18\\t0\\t25\\tFelixBot\\n', 'Apollo_(mitologie) \\t2006-01-28 16:55:35\\t0\\t24\\tKlaudiuMihaila\\n', 'Apollo_(mitologie) \\t2006-01-27 22:41:06\\t0\\t23\\t194.116.200.37\\n', 'Apollo_(mitologie) \\t2006-01-27 22:39:31\\t0\\t22\\t194.116.200.37\\n', 'Apollo_(mitologie) \\t2006-01-27 22:38:58\\t0\\t21\\t194.116.200.37\\n', 'Apollo_(mitologie) \\t2006-01-27 22:31:46\\t0\\t20\\t194.116.200.37\\n', 'Apollo_(mitologie) \\t2006-01-27 22:21:12\\t0\\t19\\t194.116.200.37\\n', 'Apollo_(mitologie) \\t2006-01-27 22:19:09\\t0\\t18\\t194.116.200.37\\n', 'Apollo_(mitologie) \\t2006-01-27 21:59:43\\t0\\t17\\t194.116.200.37\\n', 'Apollo_(mitologie) \\t2006-01-27 21:58:05\\t0\\t16\\t194.116.200.37\\n', 'Apollo_(mitologie) \\t2006-01-25 00:15:10\\t1\\t15\\tIulianu\\n', 'Apollo_(mitologie) \\t2006-01-25 00:12:36\\t1\\t14\\tTSO1D\\n', 'Apollo_(mitologie) \\t2006-01-14 09:50:05\\t0\\t15\\tZwobot\\n', 'Apollo_(mitologie) \\t2005-12-26 10:41:44\\t0\\t14\\tRobotQuistnix\\n', 'Apollo_(mitologie) \\t2005-12-25 00:02:18\\t0\\t13\\tD.evil\\n', 'Apollo_(mitologie) \\t2005-12-25 00:01:50\\t0\\t12\\tD.evil\\n', 'Apollo_(mitologie) \\t2005-12-07 03:24:46\\t0\\t11\\tRobotQuistnix\\n', 'Apollo_(mitologie) \\t2005-11-01 04:38:40\\t0\\t10\\tRebel\\n', 'Apollo_(mitologie) \\t2005-10-25 08:40:47\\t1\\t9\\tArado\\n', 'Apollo_(mitologie) \\t2005-10-25 06:47:32\\t0\\t9\\t82.77.21.199\\n', 'Apollo_(mitologie) \\t2005-09-21 21:23:29\\t0\\t8\\tChobot\\n', 'Apollo_(mitologie) \\t2005-09-19 23:01:53\\t0\\t7\\tVlad\\n', 'Apollo_(mitologie) \\t2005-09-19 22:50:31\\t0\\t6\\tIulianu\\n', 'Apollo_(mitologie) \\t2005-08-26 14:24:02\\t0\\t5\\tLaurap\\n', 'Apollo_(mitologie) \\t2005-08-26 14:20:58\\t0\\t4\\tLaurap\\n', 'Apollo_(mitologie) \\t2005-07-29 05:43:58\\t0\\t3\\t80.86.98.225\\n', 'Apollo_(mitologie) \\t2005-07-24 00:51:58\\t0\\t2\\tVlad\\n']\n",
      "['title\\ttime\\trevert\\tversion\\tuser\\n', 'Academiei_Române \\t2004-05-24 19:07:47\\t0\\t1\\tBogdan\\n', 'Tata,_Ungaria \\t2006-09-12 22:35:24\\t0\\t14\\tMishuletz\\n', 'Tata,_Ungaria \\t2006-08-04 09:12:15\\t0\\t13\\tYurikBot\\n', 'Tata,_Ungaria \\t2006-07-21 21:13:26\\t0\\t12\\tYurikBot\\n', 'Tata,_Ungaria \\t2006-07-21 14:54:46\\t0\\t11\\tOvidiu.\\n', 'Tata,_Ungaria \\t2006-07-21 14:50:59\\t0\\t10\\tOvidiu.\\n', 'Tata,_Ungaria \\t2006-07-16 21:22:29\\t0\\t9\\tOvidiu.\\n', 'Tata,_Ungaria \\t2006-07-16 21:17:23\\t0\\t8\\tOvidiu.\\n', 'Tata,_Ungaria \\t2006-07-16 20:59:10\\t0\\t7\\tOvidiu.\\n', 'Tata,_Ungaria \\t2006-07-16 20:55:48\\t0\\t6\\tOvidiu.\\n', 'Tata,_Ungaria \\t2006-07-16 20:54:06\\t0\\t5\\tOvidiu.\\n', 'Tata,_Ungaria \\t2006-07-16 20:51:03\\t0\\t4\\tOvidiu.\\n', 'Tata,_Ungaria \\t2006-07-16 20:39:46\\t0\\t3\\tOvidiu.\\n', 'Tata,_Ungaria \\t2006-07-16 20:37:27\\t0\\t2\\tOvidiu.\\n', 'Tata,_Ungaria \\t2006-07-16 20:34:07\\t0\\t1\\tOvidiu.\\n', 'Rakke \\t2006-09-23 08:19:48\\t0\\t5\\tMishuletz\\n', 'Rakke \\t2006-06-29 22:11:00\\t0\\t4\\t82.181.169.249\\n', 'Rakke \\t2005-09-17 23:24:48\\t0\\t3\\tVlad\\n', 'Rakke \\t2005-04-04 20:51:25\\t0\\t2\\tMihaitzaBot\\n', 'Rakke \\t2004-06-02 00:11:31\\t0\\t1\\tRonline\\n', 'Eifel \\t2006-12-28 06:49:30\\t0\\t12\\tThijs!bot\\n', 'Eifel \\t2006-11-25 19:51:11\\t0\\t11\\tAnclation\\n', 'Eifel \\t2006-11-25 13:33:56\\t0\\t10\\tParvus7\\n', 'Eifel \\t2006-11-25 13:21:53\\t0\\t9\\tParvus7\\n', 'Eifel \\t2006-11-25 12:42:01\\t0\\t8\\tParvus7\\n', 'Eifel \\t2006-11-25 12:35:00\\t0\\t7\\tParvus7\\n', 'Eifel \\t2006-11-25 12:34:44\\t0\\t6\\tParvus7\\n', 'Eifel \\t2006-11-25 11:58:13\\t0\\t5\\tParvus7\\n', 'Eifel \\t2006-11-25 11:54:27\\t0\\t4\\tParvus7\\n', 'Eifel \\t2006-11-25 11:52:20\\t0\\t3\\tParvus7\\n', 'Eifel \\t2006-11-25 11:51:22\\t0\\t2\\tParvus7\\n', 'Eifel \\t2006-11-25 11:49:26\\t0\\t1\\tParvus7\\n', 'Stadionul_Giulești_-_Valentin_Stănescu \\t2006-09-26 20:24:17\\t0\\t7\\t84.163.22.43\\n', 'Stadionul_Giulești_-_Valentin_Stănescu \\t2006-08-15 09:29:17\\t0\\t6\\tStrainu\\n', 'Stadionul_Giulești_-_Valentin_Stănescu \\t2006-05-23 12:32:03\\t0\\t5\\tAnclation\\n', 'Stadionul_Giulești_-_Valentin_Stănescu \\t2006-02-07 19:54:58\\t0\\t4\\tStrainu\\n', 'Stadionul_Giulești_-_Valentin_Stănescu \\t2006-02-03 17:46:18\\t0\\t3\\tStrainu\\n', 'Stadionul_Giulești_-_Valentin_Stănescu \\t2005-12-24 08:01:26\\t0\\t2\\tStrainu\\n', 'Stadionul_Giulești_-_Valentin_Stănescu \\t2005-12-22 17:10:56\\t0\\t1\\tStrainu\\n', 'Marcă_înregistrată_(termen) \\t2006-09-26 01:01:11\\t0\\t8\\tMishuletz\\n', 'Marcă_înregistrată_(termen) \\t2005-10-01 12:38:09\\t1\\t7\\tVlad\\n', 'Marcă_înregistrată_(termen) \\t2005-10-01 12:37:19\\t0\\t7\\tVlad\\n', 'Marcă_înregistrată_(termen) \\t2005-08-23 17:15:57\\t0\\t6\\t194.105.8.56\\n', 'Marcă_înregistrată_(termen) \\t2005-08-23 17:14:10\\t0\\t5\\t194.105.8.56\\n', 'Marcă_înregistrată_(termen) \\t2005-08-23 17:12:53\\t0\\t4\\t194.105.8.56\\n', 'Marcă_înregistrată_(termen) \\t2005-07-22 20:43:53\\t0\\t3\\tGutza\\n', 'Marcă_înregistrată_(termen) \\t2005-07-22 20:40:47\\t0\\t2\\tRomihaitza\\n', 'Marcă_înregistrată_(termen) \\t2005-07-22 20:35:00\\t0\\t1\\t80.97.210.22\\n', 'San_Luis_Potosí \\t2006-12-31 08:56:50\\t0\\t1\\tWars\\n', 'Apollo_(mitologie) \\t2006-12-24 07:14:25\\t0\\t47\\tThijs!bot\\n', 'Apollo_(mitologie) \\t2006-12-10 03:55:29\\t0\\t46\\tZwobot\\n', 'Apollo_(mitologie) \\t2006-12-01 19:32:00\\t0\\t45\\tJokes_Free4Me\\n', 'Apollo_(mitologie) \\t2006-10-29 06:10:41\\t0\\t44\\tEscarbot\\n', 'Apollo_(mitologie) \\t2006-10-15 09:56:18\\t0\\t43\\tPlacet_experiri\\n', 'Apollo_(mitologie) \\t2006-10-14 09:45:07\\t0\\t42\\tPlacet_experiri\\n', 'Apollo_(mitologie) \\t2006-10-06 21:33:58\\t0\\t41\\tParvus7\\n', 'Apollo_(mitologie) \\t2006-09-30 17:07:05\\t0\\t40\\tThijs!bot\\n', 'Apollo_(mitologie) \\t2006-09-06 00:02:39\\t0\\t39\\tRobotQuistnix\\n', 'Apollo_(mitologie) \\t2006-08-27 00:39:41\\t1\\t37\\tThijs!bot\\n', 'Apollo_(mitologie) \\t2006-08-14 16:27:21\\t0\\t38\\tRobotQuistnix\\n', 'Apollo_(mitologie) \\t2006-08-09 05:22:42\\t0\\t37\\tRobotQuistnix\\n', 'Apollo_(mitologie) \\t2006-07-15 11:52:17\\t0\\t36\\tRobotQuistnix\\n', 'Apollo_(mitologie) \\t2006-06-06 01:59:58\\t0\\t35\\tFlaBot\\n', 'Apollo_(mitologie) \\t2006-05-24 16:23:48\\t0\\t34\\tLaurap\\n', 'Apollo_(mitologie) \\t2006-05-24 16:21:35\\t0\\t33\\tLaurap\\n', 'Apollo_(mitologie) \\t2006-05-21 01:19:17\\t0\\t32\\tYurikBot\\n', 'Apollo_(mitologie) \\t2006-04-02 19:12:20\\t0\\t31\\tRobotQuistnix\\n', 'Apollo_(mitologie) \\t2006-03-16 06:00:04\\t0\\t30\\tRobotQuistnix\\n', 'Apollo_(mitologie) \\t2006-03-10 18:41:55\\t0\\t29\\tYurikBot\\n', 'Apollo_(mitologie) \\t2006-03-04 07:02:14\\t0\\t28\\tRobotQuistnix\\n', 'Apollo_(mitologie) \\t2006-02-25 11:07:48\\t0\\t27\\tRobotQuistnix\\n', 'Apollo_(mitologie) \\t2006-02-20 02:45:08\\t0\\t26\\tRobotQuistnix\\n', 'Apollo_(mitologie) \\t2006-02-10 16:03:18\\t0\\t25\\tFelixBot\\n', 'Apollo_(mitologie) \\t2006-01-28 16:55:35\\t0\\t24\\tKlaudiuMihaila\\n', 'Apollo_(mitologie) \\t2006-01-27 22:41:06\\t0\\t23\\t194.116.200.37\\n', 'Apollo_(mitologie) \\t2006-01-27 22:39:31\\t0\\t22\\t194.116.200.37\\n', 'Apollo_(mitologie) \\t2006-01-27 22:38:58\\t0\\t21\\t194.116.200.37\\n', 'Apollo_(mitologie) \\t2006-01-27 22:31:46\\t0\\t20\\t194.116.200.37\\n', 'Apollo_(mitologie) \\t2006-01-27 22:21:12\\t0\\t19\\t194.116.200.37\\n', 'Apollo_(mitologie) \\t2006-01-27 22:19:09\\t0\\t18\\t194.116.200.37\\n', 'Apollo_(mitologie) \\t2006-01-27 21:59:43\\t0\\t17\\t194.116.200.37\\n', 'Apollo_(mitologie) \\t2006-01-27 21:58:05\\t0\\t16\\t194.116.200.37\\n', 'Apollo_(mitologie) \\t2006-01-25 00:15:10\\t1\\t15\\tIulianu\\n', 'Apollo_(mitologie) \\t2006-01-25 00:12:36\\t1\\t14\\tTSO1D\\n', 'Apollo_(mitologie) \\t2006-01-14 09:50:05\\t0\\t15\\tZwobot\\n', 'Apollo_(mitologie) \\t2005-12-26 10:41:44\\t0\\t14\\tRobotQuistnix\\n', 'Apollo_(mitologie) \\t2005-12-25 00:02:18\\t0\\t13\\tD.evil\\n', 'Apollo_(mitologie) \\t2005-12-25 00:01:50\\t0\\t12\\tD.evil\\n', 'Apollo_(mitologie) \\t2005-12-07 03:24:46\\t0\\t11\\tRobotQuistnix\\n', 'Apollo_(mitologie) \\t2005-11-01 04:38:40\\t0\\t10\\tRebel\\n', 'Apollo_(mitologie) \\t2005-10-25 08:40:47\\t1\\t9\\tArado\\n', 'Apollo_(mitologie) \\t2005-10-25 06:47:32\\t0\\t9\\t82.77.21.199\\n', 'Apollo_(mitologie) \\t2005-09-21 21:23:29\\t0\\t8\\tChobot\\n', 'Apollo_(mitologie) \\t2005-09-19 23:01:53\\t0\\t7\\tVlad\\n', 'Apollo_(mitologie) \\t2005-09-19 22:50:31\\t0\\t6\\tIulianu\\n', 'Apollo_(mitologie) \\t2005-08-26 14:24:02\\t0\\t5\\tLaurap\\n', 'Apollo_(mitologie) \\t2005-08-26 14:20:58\\t0\\t4\\tLaurap\\n', 'Apollo_(mitologie) \\t2005-07-29 05:43:58\\t0\\t3\\t80.86.98.225\\n', 'Apollo_(mitologie) \\t2005-07-24 00:51:58\\t0\\t2\\tVlad\\n']\n"
     ]
    }
   ],
   "source": [
    "\n",
    "# open txt file and read lines into a list\n",
    "\n",
    "with open('../data/rowiki_2006.txt', 'r') as file:\n",
    "    data = file.readlines()\n",
    "\n",
    "print(data[:100])  \n",
    "type(data)\n",
    "\n",
    "data_small = data[:300]\n",
    "print(data_small)"
   ]
  },
  {
   "cell_type": "code",
   "execution_count": null,
   "metadata": {},
   "outputs": [],
   "source": [
    "# store it in a nested list\n",
    "data_small_list = [line.strip().split('\\t') for line in data_small[1:]]\n",
    "# Now, 'nested_lists' is a list of lists, where each inner list corresponds to a line in your data\n",
    "\n",
    "print(data_small_list[:10])\n",
    "\n",
    "\n",
    "data_list = [line.strip().split('\\t') for line in data[1:]]\n",
    "# Now, 'nested_lists' is a list of lists, where each inner list corresponds to a line in your data\n",
    "\n",
    "print(data_list[:10])"
   ]
  },
  {
   "cell_type": "code",
   "execution_count": 3,
   "metadata": {},
   "outputs": [
    {
     "name": "stdout",
     "output_type": "stream",
     "text": [
      "['Academiei_Române ', 'Tata,_Ungaria ', 'Tata,_Ungaria ', 'Tata,_Ungaria ', 'Tata,_Ungaria ', 'Tata,_Ungaria ', 'Tata,_Ungaria ', 'Tata,_Ungaria ', 'Tata,_Ungaria ', 'Tata,_Ungaria ']\n"
     ]
    }
   ],
   "source": [
    "# Initialize an empty dictionary to store column-wise data\n",
    "\n",
    "wiki_dict = {\n",
    "    \"title\": [],\n",
    "    \"time\": [],\n",
    "    \"revert\": [],\n",
    "    \"version\": [],\n",
    "    \"user\": [],\n",
    "}\n",
    "\n",
    "# Process each line in the data_list\n",
    "for line in data:\n",
    "    # Split the line into fields using tab as a separator\n",
    "    fields = line.strip().split('\\t')\n",
    "\n",
    "    # Populate the dictionary with column-wise data\n",
    "    wiki_dict[\"title\"].append(fields[0])\n",
    "    wiki_dict[\"time\"].append(fields[1])\n",
    "    wiki_dict[\"revert\"].append(fields[2])\n",
    "    wiki_dict[\"version\"].append(fields[3])\n",
    "    wiki_dict[\"user\"].append(fields[4])\n",
    "\n",
    "# Remove the first element from each key in the dictionary\n",
    "for key in wiki_dict:\n",
    "        wiki_dict[key].pop(0)\n",
    "\n",
    "# Print the resulting dictionary\n",
    "print(wiki_dict[\"title\"][:10])\n"
   ]
  },
  {
   "cell_type": "code",
   "execution_count": 2,
   "metadata": {},
   "outputs": [
    {
     "name": "stdout",
     "output_type": "stream",
     "text": [
      "['Academiei_Române ', 'Tata,_Ungaria ', 'Tata,_Ungaria ', 'Tata,_Ungaria ', 'Tata,_Ungaria ', 'Tata,_Ungaria ', 'Tata,_Ungaria ', 'Tata,_Ungaria ', 'Tata,_Ungaria ', 'Tata,_Ungaria ']\n",
      "<class 'dict'>\n",
      "dict_keys(['title', 'time', 'revert', 'version', 'user'])\n"
     ]
    }
   ],
   "source": [
    "wiki_dict_small = {\n",
    "    \"title\": [],\n",
    "    \"time\": [],\n",
    "    \"revert\": [],\n",
    "    \"version\": [],\n",
    "    \"user\": [],\n",
    "}\n",
    "\n",
    "for line in data_small:\n",
    "    # Split the line into fields using tab as a separator\n",
    "    fields = line.strip().split('\\t')\n",
    "\n",
    "    # Populate the dictionary with column-wise data\n",
    "    wiki_dict_small[\"title\"].append(fields[0])\n",
    "    wiki_dict_small[\"time\"].append(fields[1])\n",
    "    wiki_dict_small[\"revert\"].append(fields[2])\n",
    "    wiki_dict_small[\"version\"].append(fields[3])\n",
    "    wiki_dict_small[\"user\"].append(fields[4])\n",
    "\n",
    "# Remove the first element from each key in the dictionary\n",
    "for key in wiki_dict_small:\n",
    "        wiki_dict_small[key].pop(0)\n",
    "\n",
    "# Print the resulting dictionary\n",
    "print(wiki_dict_small[\"title\"][:10])\n",
    "\n",
    "print(type(wiki_dict_small))\n",
    "\n",
    "print(wiki_dict_small.keys())"
   ]
  },
  {
   "cell_type": "code",
   "execution_count": null,
   "metadata": {},
   "outputs": [],
   "source": [
    "import pandas as pd\n",
    "\n",
    "wiki_df = pd.DataFrame(wiki_dict)\n",
    "\n",
    "wiki_df_small = pd.DataFrame(wiki_dict_small)\n",
    "print(wiki_df_small.head())\n",
    "\n",
    "## accessing variables in a dataframe\n",
    "wiki_df_small.revert"
   ]
  },
  {
   "cell_type": "code",
   "execution_count": null,
   "metadata": {},
   "outputs": [],
   "source": [
    "# test code trying the +1 version\n",
    "# correct \n",
    "\n",
    "\n",
    "# pseudo code\n",
    "# check if the user has revert == 1. \n",
    "# If yes, find the version number of the article at that time, and find the previous time that this version number occurred. \n",
    "# then check the most recent time that this version was incremented. \n",
    "# If the users are different, this is a revert\n",
    "\n",
    "\n",
    "# problem: i am not getting the first revert of two consecutive reverts\n",
    "\n",
    "reverted_by_other = []  # Create an empty list to store the reverts\n",
    "reverter = None\n",
    "reverted = None\n",
    "date_revert = None\n",
    "date_reverted = None\n",
    "new_version = None\n",
    "old_version = None\n",
    "\n",
    "# Iterate over items in the dictionary\n",
    "for i in range(len(wiki_dict['user'])):\n",
    "    user = wiki_dict['user'][i]\n",
    "    date = wiki_dict['time'][i]\n",
    "    revert = wiki_dict['revert'][i]\n",
    "    version = wiki_dict['version'][i]\n",
    "    title = wiki_dict['title'][i]\n",
    "    \n",
    "    if revert == \"1\":\n",
    "        if reverter is None:\n",
    "            reverter = user\n",
    "            date_revert = date\n",
    "            new_version = version\n",
    "            title = title\n",
    "      \n",
    "        else:  \n",
    "            #reverter = reverter\n",
    "            #date_revert = date_revert\n",
    "            #new_version = version  \n",
    "            #reverted = user \n",
    "            #date_reverted = date \n",
    "\n",
    "            if int(new_version) == int(version):\n",
    "\n",
    "                reverted = wiki_dict['user'][i-1]\n",
    "                date_reverted = wiki_dict['time'][i-1]\n",
    "                reverted_by_other.append((reverter, date_revert, reverted, date_reverted))\n",
    "\n",
    "            reverter = user\n",
    "            date_revert = date\n",
    "            new_version = version\n",
    "\n",
    "    else:\n",
    "        if reverter is not None:\n",
    "            #reverted = reverter\n",
    "            #date_revert = date_revert\n",
    "            #new_version = new_version\n",
    "            if int(new_version)  == int(version):  \n",
    "                # Access the stored values from before updating new_version\n",
    "                reverted = wiki_dict['user'][i-1]\n",
    "                date_reverted = wiki_dict['time'][i-1]\n",
    "                if reverter != reverted:\n",
    "                    reverted_by_other.append((reverter, date_revert, new_version, reverted, date_reverted))\n",
    "            \n",
    "                reverter = None\n",
    "                date_revert = None\n",
    "            \n",
    "\n",
    "# Check if the last edit was a revert\n",
    "#if reverter is not None and reverted is not None and reverter != reverted:\n",
    " #   reverted_by_other_small.append((reverter, date_revert, new_version, reverted, date_reverted))\n",
    "\n",
    "print(reverted_by_other)\n",
    "print(len(reverted_by_other))\n",
    "\n",
    "print(wiki_df[307:315])\n"
   ]
  }
 ],
 "metadata": {
  "kernelspec": {
   "display_name": "base",
   "language": "python",
   "name": "python3"
  },
  "language_info": {
   "codemirror_mode": {
    "name": "ipython",
    "version": 3
   },
   "file_extension": ".py",
   "mimetype": "text/x-python",
   "name": "python",
   "nbconvert_exporter": "python",
   "pygments_lexer": "ipython3",
   "version": "3.11.5"
  },
  "orig_nbformat": 4
 },
 "nbformat": 4,
 "nbformat_minor": 2
}
